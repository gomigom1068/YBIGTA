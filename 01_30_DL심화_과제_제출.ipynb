{
  "nbformat": 4,
  "nbformat_minor": 0,
  "metadata": {
    "colab": {
      "name": "01_30_DL심화_과제_제출.ipynb",
      "provenance": []
    },
    "kernelspec": {
      "name": "python3",
      "display_name": "Python 3"
    }
  },
  "cells": [
    {
      "cell_type": "code",
      "metadata": {
        "id": "EX3wutatppOn"
      },
      "source": [
        "import numpy as np\r\n",
        "import tensorflow as tf\r\n",
        "import matplotlib.pyplot as plt\r\n",
        "from PIL import Image\r\n",
        "%matplotlib inline"
      ],
      "execution_count": 1,
      "outputs": []
    },
    {
      "cell_type": "code",
      "metadata": {
        "colab": {
          "base_uri": "https://localhost:8080/"
        },
        "id": "o5lmPPEfpwOi",
        "outputId": "d712ec8f-ea5a-4d18-914c-5f13562d4660"
      },
      "source": [
        "(x_train, y_train), (x_test, y_test) = tf.keras.datasets.mnist.load_data()"
      ],
      "execution_count": 2,
      "outputs": [
        {
          "output_type": "stream",
          "text": [
            "Downloading data from https://storage.googleapis.com/tensorflow/tf-keras-datasets/mnist.npz\n",
            "11493376/11490434 [==============================] - 0s 0us/step\n"
          ],
          "name": "stdout"
        }
      ]
    },
    {
      "cell_type": "code",
      "metadata": {
        "colab": {
          "base_uri": "https://localhost:8080/"
        },
        "id": "ut90kjiupzd8",
        "outputId": "4c86c221-278b-4a21-d628-16e6db63ed88"
      },
      "source": [
        "x_train = np.reshape(x_train, (-1,28,28,1))\r\n",
        "x_test = np.reshape(x_test, (-1,28,28,1))\r\n",
        "x_train.shape, x_test.shape"
      ],
      "execution_count": 3,
      "outputs": [
        {
          "output_type": "execute_result",
          "data": {
            "text/plain": [
              "((60000, 28, 28, 1), (10000, 28, 28, 1))"
            ]
          },
          "metadata": {
            "tags": []
          },
          "execution_count": 3
        }
      ]
    },
    {
      "cell_type": "code",
      "metadata": {
        "colab": {
          "base_uri": "https://localhost:8080/"
        },
        "id": "qQeeCqJWp1E3",
        "outputId": "bc671a4b-f144-44bb-ba59-e23210717a03"
      },
      "source": [
        "y_train = tf.keras.utils.to_categorical(y_train, 10)\r\n",
        "y_test = tf.keras.utils.to_categorical(y_test, 10)\r\n",
        "y_train.shape, y_test.shape"
      ],
      "execution_count": 4,
      "outputs": [
        {
          "output_type": "execute_result",
          "data": {
            "text/plain": [
              "((60000, 10), (10000, 10))"
            ]
          },
          "metadata": {
            "tags": []
          },
          "execution_count": 4
        }
      ]
    },
    {
      "cell_type": "code",
      "metadata": {
        "id": "9OtzLSHeqEOu"
      },
      "source": [
        "## data augmentation\r\n",
        "datagen = tf.keras.preprocessing.image.ImageDataGenerator(\r\n",
        "    rotation_range = 20,\r\n",
        "    width_shift_range = 0.1,\r\n",
        "    height_shift_range = 0.1,\r\n",
        "    validation_split = 0.25\r\n",
        ")\r\n",
        "datagen.fit(x_train)"
      ],
      "execution_count": 6,
      "outputs": []
    },
    {
      "cell_type": "code",
      "metadata": {
        "colab": {
          "base_uri": "https://localhost:8080/"
        },
        "id": "pd_oubSiqG26",
        "outputId": "8ec1bcfd-543c-4ff6-de14-b58e08f0de40"
      },
      "source": [
        "## create model\r\n",
        "\r\n",
        "model = tf.keras.Sequential([\r\n",
        "    tf.keras.layers.Conv2D(input_shape=(28,28,1), kernel_size=(5,5), filters=10, activation='relu'),\r\n",
        "    tf.keras.layers.MaxPool2D(pool_size=(2,2)),\r\n",
        "    tf.keras.layers.Conv2D(kernel_size=(3,3), filters=20, activation='relu'),\r\n",
        "    tf.keras.layers.MaxPool2D(pool_size=(2,2)),\r\n",
        "    tf.keras.layers.Flatten(),\r\n",
        "    tf.keras.layers.Dense(units=64, activation='relu'),\r\n",
        "    tf.keras.layers.Flatten(),\r\n",
        "    tf.keras.layers.Dense(units=10, activation='softmax')\r\n",
        "])\r\n",
        "\r\n",
        "model.compile(optimizer=tf.keras.optimizers.Adam(), \r\n",
        "              loss='categorical_crossentropy',\r\n",
        "              metrics = ['accuracy']\r\n",
        "             )\r\n",
        "\r\n",
        "model.summary()"
      ],
      "execution_count": 10,
      "outputs": [
        {
          "output_type": "stream",
          "text": [
            "Model: \"sequential_1\"\n",
            "_________________________________________________________________\n",
            "Layer (type)                 Output Shape              Param #   \n",
            "=================================================================\n",
            "conv2d_2 (Conv2D)            (None, 24, 24, 10)        260       \n",
            "_________________________________________________________________\n",
            "max_pooling2d_2 (MaxPooling2 (None, 12, 12, 10)        0         \n",
            "_________________________________________________________________\n",
            "conv2d_3 (Conv2D)            (None, 10, 10, 20)        1820      \n",
            "_________________________________________________________________\n",
            "max_pooling2d_3 (MaxPooling2 (None, 5, 5, 20)          0         \n",
            "_________________________________________________________________\n",
            "flatten_2 (Flatten)          (None, 500)               0         \n",
            "_________________________________________________________________\n",
            "dense_2 (Dense)              (None, 64)                32064     \n",
            "_________________________________________________________________\n",
            "flatten_3 (Flatten)          (None, 64)                0         \n",
            "_________________________________________________________________\n",
            "dense_3 (Dense)              (None, 10)                650       \n",
            "=================================================================\n",
            "Total params: 34,794\n",
            "Trainable params: 34,794\n",
            "Non-trainable params: 0\n",
            "_________________________________________________________________\n"
          ],
          "name": "stdout"
        }
      ]
    },
    {
      "cell_type": "code",
      "metadata": {
        "colab": {
          "base_uri": "https://localhost:8080/"
        },
        "id": "9HQV7s97qJ8-",
        "outputId": "eefeea50-2464-4138-d2b5-4b2c1e27b721"
      },
      "source": [
        "train_generator = datagen.flow(x_train, y_train, batch_size = 128, subset = 'training')\r\n",
        "val_generator = datagen.flow(x_train, y_train, batch_size = 128, subset = 'validation')\r\n",
        "\r\n",
        "history = model.fit_generator( train_generator,\r\n",
        "                               epochs = 5,\r\n",
        "                               verbose = 1,\r\n",
        "                               validation_data = val_generator\r\n",
        "                               )\r\n"
      ],
      "execution_count": 11,
      "outputs": [
        {
          "output_type": "stream",
          "text": [
            "/usr/local/lib/python3.6/dist-packages/tensorflow/python/keras/engine/training.py:1844: UserWarning: `Model.fit_generator` is deprecated and will be removed in a future version. Please use `Model.fit`, which supports generators.\n",
            "  warnings.warn('`Model.fit_generator` is deprecated and '\n"
          ],
          "name": "stderr"
        },
        {
          "output_type": "stream",
          "text": [
            "Epoch 1/5\n",
            "352/352 [==============================] - 28s 79ms/step - loss: 4.5784 - accuracy: 0.4156 - val_loss: 0.5376 - val_accuracy: 0.8403\n",
            "Epoch 2/5\n",
            "352/352 [==============================] - 28s 79ms/step - loss: 0.4205 - accuracy: 0.8717 - val_loss: 0.2950 - val_accuracy: 0.9095\n",
            "Epoch 3/5\n",
            "352/352 [==============================] - 28s 79ms/step - loss: 0.2504 - accuracy: 0.9248 - val_loss: 0.2065 - val_accuracy: 0.9355\n",
            "Epoch 4/5\n",
            "352/352 [==============================] - 28s 79ms/step - loss: 0.1799 - accuracy: 0.9442 - val_loss: 0.1629 - val_accuracy: 0.9500\n",
            "Epoch 5/5\n",
            "352/352 [==============================] - 28s 79ms/step - loss: 0.1442 - accuracy: 0.9550 - val_loss: 0.1435 - val_accuracy: 0.9571\n"
          ],
          "name": "stdout"
        }
      ]
    },
    {
      "cell_type": "code",
      "metadata": {
        "colab": {
          "base_uri": "https://localhost:8080/"
        },
        "id": "ubKAkAITqLll",
        "outputId": "a0f4cab6-5a1a-485d-f184-e8cc630888bb"
      },
      "source": [
        "loss, accuracy = model.evaluate(x_test, y_test)\r\n",
        "print(f'test loss : {loss} / test accuracy : {accuracy}')"
      ],
      "execution_count": 12,
      "outputs": [
        {
          "output_type": "stream",
          "text": [
            "313/313 [==============================] - 2s 7ms/step - loss: 0.0608 - accuracy: 0.9808\n",
            "test loss : 0.060754649341106415 / test accuracy : 0.9807999730110168\n"
          ],
          "name": "stdout"
        }
      ]
    }
  ]
}