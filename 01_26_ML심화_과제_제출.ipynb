{
  "nbformat": 4,
  "nbformat_minor": 0,
  "metadata": {
    "colab": {
      "name": "ML 과제_제출.ipynb",
      "provenance": [],
      "collapsed_sections": []
    },
    "kernelspec": {
      "display_name": "Python 3",
      "language": "python",
      "name": "python3"
    },
    "language_info": {
      "codemirror_mode": {
        "name": "ipython",
        "version": 3
      },
      "file_extension": ".py",
      "mimetype": "text/x-python",
      "name": "python",
      "nbconvert_exporter": "python",
      "pygments_lexer": "ipython3",
      "version": "3.7.7"
    }
  },
  "cells": [
    {
      "cell_type": "markdown",
      "metadata": {
        "id": "UHXEXVGBRKVV"
      },
      "source": [
        "## ML 과제"
      ]
    },
    {
      "cell_type": "markdown",
      "metadata": {
        "id": "60qQ3O5aRKVc"
      },
      "source": [
        "과제할 때 꿀팁!\n",
        "\n",
        "1. 이전 세션들에서의 자료를 찾아본다.\n",
        "2. 질문방에 질문한다.\n",
        "3. 구글링한다.\n",
        "4. 복붙하지 않고 직접 타이핑해서 코드를 완성한다."
      ]
    },
    {
      "cell_type": "code",
      "metadata": {
        "id": "BqbMWhW4RKVe"
      },
      "source": [
        "import pandas as pd\n",
        "import numpy as np\n",
        "\n",
        "import warnings\n",
        "warnings.filterwarnings(action='ignore')"
      ],
      "execution_count": 17,
      "outputs": []
    },
    {
      "cell_type": "markdown",
      "metadata": {
        "id": "Ui_F4tZHRKVk"
      },
      "source": [
        "### 0. Titanic 데이터 로드 및 훓어보기"
      ]
    },
    {
      "cell_type": "code",
      "metadata": {
        "colab": {
          "base_uri": "https://localhost:8080/"
        },
        "id": "9Wj3uQKYOrqA",
        "outputId": "187b6f61-75b5-4bfd-d0b4-aa78d8b6872f"
      },
      "source": [
        "from google.colab import drive\n",
        "drive.mount('/content/drive')"
      ],
      "execution_count": 18,
      "outputs": [
        {
          "output_type": "stream",
          "text": [
            "Drive already mounted at /content/drive; to attempt to forcibly remount, call drive.mount(\"/content/drive\", force_remount=True).\n"
          ],
          "name": "stdout"
        }
      ]
    },
    {
      "cell_type": "code",
      "metadata": {
        "colab": {
          "base_uri": "https://localhost:8080/",
          "height": 484
        },
        "id": "L3wf-RkBRKVl",
        "outputId": "4c1ad4f2-e4b8-4749-ec63-9d971fe7b17d"
      },
      "source": [
        "# 여러분이 이전 과제로 만드셨을 FE를 진행한 데이터 보다는 원본 데이터가 조금 더 이번 실습에 적합하기 때문에 원본을 사용하겠습니다.\n",
        "# 데이터를 로드하고, 잘 불러와진 것인지 첫 5행을 불러와 확인해보세요.\n",
        "\n",
        "titanic = pd.read_csv('/content/drive/MyDrive/YBIGTA/titanic.csv')\n",
        "titanic.head()"
      ],
      "execution_count": 19,
      "outputs": [
        {
          "output_type": "execute_result",
          "data": {
            "text/html": [
              "<div>\n",
              "<style scoped>\n",
              "    .dataframe tbody tr th:only-of-type {\n",
              "        vertical-align: middle;\n",
              "    }\n",
              "\n",
              "    .dataframe tbody tr th {\n",
              "        vertical-align: top;\n",
              "    }\n",
              "\n",
              "    .dataframe thead th {\n",
              "        text-align: right;\n",
              "    }\n",
              "</style>\n",
              "<table border=\"1\" class=\"dataframe\">\n",
              "  <thead>\n",
              "    <tr style=\"text-align: right;\">\n",
              "      <th></th>\n",
              "      <th>PassengerId</th>\n",
              "      <th>Survived</th>\n",
              "      <th>Pclass</th>\n",
              "      <th>Name</th>\n",
              "      <th>Sex</th>\n",
              "      <th>Age</th>\n",
              "      <th>SibSp</th>\n",
              "      <th>Parch</th>\n",
              "      <th>Ticket</th>\n",
              "      <th>Fare</th>\n",
              "      <th>Cabin</th>\n",
              "      <th>Embarked</th>\n",
              "    </tr>\n",
              "  </thead>\n",
              "  <tbody>\n",
              "    <tr>\n",
              "      <th>0</th>\n",
              "      <td>1</td>\n",
              "      <td>0</td>\n",
              "      <td>3</td>\n",
              "      <td>Braund, Mr. Owen Harris</td>\n",
              "      <td>male</td>\n",
              "      <td>22.0</td>\n",
              "      <td>1</td>\n",
              "      <td>0</td>\n",
              "      <td>A/5 21171</td>\n",
              "      <td>7.2500</td>\n",
              "      <td>NaN</td>\n",
              "      <td>S</td>\n",
              "    </tr>\n",
              "    <tr>\n",
              "      <th>1</th>\n",
              "      <td>2</td>\n",
              "      <td>1</td>\n",
              "      <td>1</td>\n",
              "      <td>Cumings, Mrs. John Bradley (Florence Briggs Th...</td>\n",
              "      <td>female</td>\n",
              "      <td>38.0</td>\n",
              "      <td>1</td>\n",
              "      <td>0</td>\n",
              "      <td>PC 17599</td>\n",
              "      <td>71.2833</td>\n",
              "      <td>C85</td>\n",
              "      <td>C</td>\n",
              "    </tr>\n",
              "    <tr>\n",
              "      <th>2</th>\n",
              "      <td>3</td>\n",
              "      <td>1</td>\n",
              "      <td>3</td>\n",
              "      <td>Heikkinen, Miss. Laina</td>\n",
              "      <td>female</td>\n",
              "      <td>26.0</td>\n",
              "      <td>0</td>\n",
              "      <td>0</td>\n",
              "      <td>STON/O2. 3101282</td>\n",
              "      <td>7.9250</td>\n",
              "      <td>NaN</td>\n",
              "      <td>S</td>\n",
              "    </tr>\n",
              "    <tr>\n",
              "      <th>3</th>\n",
              "      <td>4</td>\n",
              "      <td>1</td>\n",
              "      <td>1</td>\n",
              "      <td>Futrelle, Mrs. Jacques Heath (Lily May Peel)</td>\n",
              "      <td>female</td>\n",
              "      <td>35.0</td>\n",
              "      <td>1</td>\n",
              "      <td>0</td>\n",
              "      <td>113803</td>\n",
              "      <td>53.1000</td>\n",
              "      <td>C123</td>\n",
              "      <td>S</td>\n",
              "    </tr>\n",
              "    <tr>\n",
              "      <th>4</th>\n",
              "      <td>5</td>\n",
              "      <td>0</td>\n",
              "      <td>3</td>\n",
              "      <td>Allen, Mr. William Henry</td>\n",
              "      <td>male</td>\n",
              "      <td>35.0</td>\n",
              "      <td>0</td>\n",
              "      <td>0</td>\n",
              "      <td>373450</td>\n",
              "      <td>8.0500</td>\n",
              "      <td>NaN</td>\n",
              "      <td>S</td>\n",
              "    </tr>\n",
              "  </tbody>\n",
              "</table>\n",
              "</div>"
            ],
            "text/plain": [
              "   PassengerId  Survived  Pclass  ...     Fare Cabin  Embarked\n",
              "0            1         0       3  ...   7.2500   NaN         S\n",
              "1            2         1       1  ...  71.2833   C85         C\n",
              "2            3         1       3  ...   7.9250   NaN         S\n",
              "3            4         1       1  ...  53.1000  C123         S\n",
              "4            5         0       3  ...   8.0500   NaN         S\n",
              "\n",
              "[5 rows x 12 columns]"
            ]
          },
          "metadata": {
            "tags": []
          },
          "execution_count": 19
        }
      ]
    },
    {
      "cell_type": "code",
      "metadata": {
        "colab": {
          "base_uri": "https://localhost:8080/"
        },
        "id": "SJqFSXyERKVp",
        "outputId": "fdf61568-09de-4f14-8c30-782e9cf13f64"
      },
      "source": [
        "# 변수들의 데이터 타입, 결측치, target의 imbalance 여부를 확인해주세요.\n",
        "print(\"*변수들의 데이터 타입\")\n",
        "print(titanic.info())\n",
        "print(\"-\"*50)\n",
        "print(\"*column 별 결측치\")\n",
        "print(titanic.isnull().sum())\n",
        "print(\"-\"*50)\n",
        "print(\"*target의 imbaalance 여부\")\n",
        "print(titanic.groupby('Survived').size())"
      ],
      "execution_count": 20,
      "outputs": [
        {
          "output_type": "stream",
          "text": [
            "*변수들의 데이터 타입\n",
            "<class 'pandas.core.frame.DataFrame'>\n",
            "RangeIndex: 891 entries, 0 to 890\n",
            "Data columns (total 12 columns):\n",
            " #   Column       Non-Null Count  Dtype  \n",
            "---  ------       --------------  -----  \n",
            " 0   PassengerId  891 non-null    int64  \n",
            " 1   Survived     891 non-null    int64  \n",
            " 2   Pclass       891 non-null    int64  \n",
            " 3   Name         891 non-null    object \n",
            " 4   Sex          891 non-null    object \n",
            " 5   Age          714 non-null    float64\n",
            " 6   SibSp        891 non-null    int64  \n",
            " 7   Parch        891 non-null    int64  \n",
            " 8   Ticket       891 non-null    object \n",
            " 9   Fare         891 non-null    float64\n",
            " 10  Cabin        204 non-null    object \n",
            " 11  Embarked     889 non-null    object \n",
            "dtypes: float64(2), int64(5), object(5)\n",
            "memory usage: 83.7+ KB\n",
            "None\n",
            "--------------------------------------------------\n",
            "*column 별 결측치\n",
            "PassengerId      0\n",
            "Survived         0\n",
            "Pclass           0\n",
            "Name             0\n",
            "Sex              0\n",
            "Age            177\n",
            "SibSp            0\n",
            "Parch            0\n",
            "Ticket           0\n",
            "Fare             0\n",
            "Cabin          687\n",
            "Embarked         2\n",
            "dtype: int64\n",
            "--------------------------------------------------\n",
            "*target의 imbaalance 여부\n",
            "Survived\n",
            "0    549\n",
            "1    342\n",
            "dtype: int64\n"
          ],
          "name": "stdout"
        }
      ]
    },
    {
      "cell_type": "code",
      "metadata": {
        "colab": {
          "base_uri": "https://localhost:8080/"
        },
        "id": "JHku_wldRKVw",
        "outputId": "d2a30903-0dd0-4edc-b519-7bcaf4bb4e2c"
      },
      "source": [
        "# 편의상 결측치 데이터 및 승객 고유의 데이터('PassengerId','Name', 'Ticket', 'Cabin')는 모두 drop 시킵시다.\n",
        "# 실제 프로젝트에서는 이렇게 하시면 성능이 낮을 수 있어요!!\n",
        "titanic.drop(['PassengerId','Name', 'Ticket', 'Cabin'],axis=1,inplace=True)\n",
        "titanic.columns\n"
      ],
      "execution_count": 21,
      "outputs": [
        {
          "output_type": "execute_result",
          "data": {
            "text/plain": [
              "Index(['Survived', 'Pclass', 'Sex', 'Age', 'SibSp', 'Parch', 'Fare',\n",
              "       'Embarked'],\n",
              "      dtype='object')"
            ]
          },
          "metadata": {
            "tags": []
          },
          "execution_count": 21
        }
      ]
    },
    {
      "cell_type": "code",
      "metadata": {
        "colab": {
          "base_uri": "https://localhost:8080/"
        },
        "id": "PxDeUvobV3w0",
        "outputId": "d9ff9eb2-6ddb-47c7-ca49-1661a76811f1"
      },
      "source": [
        "#밑에서 model 만들 때 NaN으로 인해 오류가 나서 Age와 Embarked에 결측치가 있는 행까지 모두 지웠습니다\r\n",
        "titanic.dropna(inplace=True)\r\n",
        "titanic.isnull().sum()"
      ],
      "execution_count": 65,
      "outputs": [
        {
          "output_type": "execute_result",
          "data": {
            "text/plain": [
              "Survived    0\n",
              "Pclass      0\n",
              "Sex         0\n",
              "Age         0\n",
              "SibSp       0\n",
              "Parch       0\n",
              "Fare        0\n",
              "Embarked    0\n",
              "dtype: int64"
            ]
          },
          "metadata": {
            "tags": []
          },
          "execution_count": 65
        }
      ]
    },
    {
      "cell_type": "code",
      "metadata": {
        "colab": {
          "base_uri": "https://localhost:8080/",
          "height": 195
        },
        "id": "Ow3xzO2DRKV0",
        "outputId": "d513535f-edad-42e5-c208-5638504a5747"
      },
      "source": [
        "# categorical feature(Sex, Embarked)에 대해 LabelEncoding을 진행해 주세요.\n",
        "# 전처리 완료된 DataFrame을 첫 5행을 불러와 확인해보세요\n",
        "from sklearn.preprocessing import LabelEncoder\n",
        "le=LabelEncoder()\n",
        "titanic['Sex']=le.fit_transform(titanic['Sex'])\n",
        "titanic['Embarked']=le.fit_transform(titanic['Embarked'])\n",
        "titanic.head()"
      ],
      "execution_count": 66,
      "outputs": [
        {
          "output_type": "execute_result",
          "data": {
            "text/html": [
              "<div>\n",
              "<style scoped>\n",
              "    .dataframe tbody tr th:only-of-type {\n",
              "        vertical-align: middle;\n",
              "    }\n",
              "\n",
              "    .dataframe tbody tr th {\n",
              "        vertical-align: top;\n",
              "    }\n",
              "\n",
              "    .dataframe thead th {\n",
              "        text-align: right;\n",
              "    }\n",
              "</style>\n",
              "<table border=\"1\" class=\"dataframe\">\n",
              "  <thead>\n",
              "    <tr style=\"text-align: right;\">\n",
              "      <th></th>\n",
              "      <th>Survived</th>\n",
              "      <th>Pclass</th>\n",
              "      <th>Sex</th>\n",
              "      <th>Age</th>\n",
              "      <th>SibSp</th>\n",
              "      <th>Parch</th>\n",
              "      <th>Fare</th>\n",
              "      <th>Embarked</th>\n",
              "    </tr>\n",
              "  </thead>\n",
              "  <tbody>\n",
              "    <tr>\n",
              "      <th>0</th>\n",
              "      <td>0</td>\n",
              "      <td>3</td>\n",
              "      <td>1</td>\n",
              "      <td>22.0</td>\n",
              "      <td>1</td>\n",
              "      <td>0</td>\n",
              "      <td>7.2500</td>\n",
              "      <td>2</td>\n",
              "    </tr>\n",
              "    <tr>\n",
              "      <th>1</th>\n",
              "      <td>1</td>\n",
              "      <td>1</td>\n",
              "      <td>0</td>\n",
              "      <td>38.0</td>\n",
              "      <td>1</td>\n",
              "      <td>0</td>\n",
              "      <td>71.2833</td>\n",
              "      <td>0</td>\n",
              "    </tr>\n",
              "    <tr>\n",
              "      <th>2</th>\n",
              "      <td>1</td>\n",
              "      <td>3</td>\n",
              "      <td>0</td>\n",
              "      <td>26.0</td>\n",
              "      <td>0</td>\n",
              "      <td>0</td>\n",
              "      <td>7.9250</td>\n",
              "      <td>2</td>\n",
              "    </tr>\n",
              "    <tr>\n",
              "      <th>3</th>\n",
              "      <td>1</td>\n",
              "      <td>1</td>\n",
              "      <td>0</td>\n",
              "      <td>35.0</td>\n",
              "      <td>1</td>\n",
              "      <td>0</td>\n",
              "      <td>53.1000</td>\n",
              "      <td>2</td>\n",
              "    </tr>\n",
              "    <tr>\n",
              "      <th>4</th>\n",
              "      <td>0</td>\n",
              "      <td>3</td>\n",
              "      <td>1</td>\n",
              "      <td>35.0</td>\n",
              "      <td>0</td>\n",
              "      <td>0</td>\n",
              "      <td>8.0500</td>\n",
              "      <td>2</td>\n",
              "    </tr>\n",
              "  </tbody>\n",
              "</table>\n",
              "</div>"
            ],
            "text/plain": [
              "   Survived  Pclass  Sex   Age  SibSp  Parch     Fare  Embarked\n",
              "0         0       3    1  22.0      1      0   7.2500         2\n",
              "1         1       1    0  38.0      1      0  71.2833         0\n",
              "2         1       3    0  26.0      0      0   7.9250         2\n",
              "3         1       1    0  35.0      1      0  53.1000         2\n",
              "4         0       3    1  35.0      0      0   8.0500         2"
            ]
          },
          "metadata": {
            "tags": []
          },
          "execution_count": 66
        }
      ]
    },
    {
      "cell_type": "markdown",
      "metadata": {
        "id": "WEZOz8TzRKV7"
      },
      "source": [
        "### 1. Train-Test split & 종속변수-설명변수 분할"
      ]
    },
    {
      "cell_type": "code",
      "metadata": {
        "id": "WCAxi_V-RKV_"
      },
      "source": [
        "# 분할을 위해 필요한 적절한 패키지를 불러와주세요 \n",
        "# train-test split 및 종속변수-설명변수 분할을 진행해주세요\n",
        "from sklearn.model_selection import train_test_split\n",
        "\n",
        "y=titanic.Survived\n",
        "X=titanic.drop('Survived',axis=1)\n",
        "\n",
        "X_train,X_test,y_train,y_test=train_test_split(X,y,test_size=0.2,random_state=42)"
      ],
      "execution_count": 37,
      "outputs": []
    },
    {
      "cell_type": "markdown",
      "metadata": {
        "id": "iSUYhG2jRKWD"
      },
      "source": [
        "### 2. Decision Tree를 통한 Classification"
      ]
    },
    {
      "cell_type": "code",
      "metadata": {
        "id": "uBl4sGU4RKWF"
      },
      "source": [
        "# Decision Tree에서 categorical feature인 'Pclass'를 기준으로 첫 번째 Node(Root Node)가 분리된다고 가정합시다.\n",
        "# 이 때 Entropy 지표를 통해 Information Gain을 계산할 수 있는 함수(또는 코드)를 작성하고, Information gain을 계산하세요.\n",
        "# 실습에서 다루지 않은 내용입니다. 코드가 어려우시다면 줄글로만 풀이과정을 작성해주셔도 됩니다.\n",
        "\n",
        "# titanic data로 Pclass를 분리기준으로 이용했을 때의 entropy를 계산하는 상황만 고려하시면 됩니다.\n",
        "# 계산에 사용할 데이터는 분할 이전의 0번에서 전처리 완료한 데이터를 기준으로 하겠습니다!\n",
        "# 올바르게 계산할 시 Information Gain은 0.0097이 나옵니다.\n"
      ],
      "execution_count": 25,
      "outputs": []
    },
    {
      "cell_type": "code",
      "metadata": {
        "colab": {
          "base_uri": "https://localhost:8080/"
        },
        "id": "tDwmRQMH1nTQ",
        "outputId": "f29721de-947a-4494-9c96-ab8ce7e7dd78"
      },
      "source": [
        "print(titanic.groupby(['Pclass','Survived']).size())\r\n",
        "print('-'*50)\r\n",
        "print(titanic.groupby(['Survived']).size())\r\n",
        "print('-'*50)\r\n",
        "print(titanic.groupby(['Pclass']).size())\r\n",
        "print('-'*50)\r\n",
        "print(titanic.shape)"
      ],
      "execution_count": 67,
      "outputs": [
        {
          "output_type": "stream",
          "text": [
            "Pclass  Survived\n",
            "1       0            64\n",
            "        1           120\n",
            "2       0            90\n",
            "        1            83\n",
            "3       0           270\n",
            "        1            85\n",
            "dtype: int64\n",
            "--------------------------------------------------\n",
            "Survived\n",
            "0    424\n",
            "1    288\n",
            "dtype: int64\n",
            "--------------------------------------------------\n",
            "Pclass\n",
            "1    184\n",
            "2    173\n",
            "3    355\n",
            "dtype: int64\n",
            "--------------------------------------------------\n",
            "(712, 8)\n"
          ],
          "name": "stdout"
        }
      ]
    },
    {
      "cell_type": "code",
      "metadata": {
        "colab": {
          "base_uri": "https://localhost:8080/"
        },
        "id": "TXHk7oQUTm71",
        "outputId": "ee0c0ff6-3a6c-4766-b0fd-dc6d682adbda"
      },
      "source": [
        "import math\r\n",
        "ParentNode=((-288/712)*math.log(288/712,2))+((-424/712)*math.log(424/712,2))\r\n",
        "Chnode1=((-120/184)*math.log(120/184,2)+(-64/184)*math.log(64/184,2))*184/712\r\n",
        "Chnode2=((-83/173)*math.log(83/173,2)+(-90/173)*math.log(90/173,2))*173/712\r\n",
        "Chnode3=((-85/355)*math.log(85/355,2)+(-270/355)*math.log(270/355,2))*355/712\r\n",
        "InformationGain=ParentNode-(Chnode1+Chnode2+Chnode3)\r\n",
        "print(InformationGain)"
      ],
      "execution_count": 64,
      "outputs": [
        {
          "output_type": "stream",
          "text": [
            "0.09400998456880627\n"
          ],
          "name": "stdout"
        }
      ]
    },
    {
      "cell_type": "markdown",
      "metadata": {
        "id": "eh9_jGgPRKWJ"
      },
      "source": [
        "##### <b>줄글 답안</b>\n",
        ">"
      ]
    },
    {
      "cell_type": "code",
      "metadata": {
        "colab": {
          "base_uri": "https://localhost:8080/"
        },
        "id": "DKGz1okHnhJU",
        "outputId": "eaf71e18-3ba7-4f56-b176-f2a1d0e482bf"
      },
      "source": [
        "titanic.dropna(inplace=True)\r\n",
        "titanic.isnull().sum()"
      ],
      "execution_count": 41,
      "outputs": [
        {
          "output_type": "execute_result",
          "data": {
            "text/plain": [
              "Survived    0\n",
              "Pclass      0\n",
              "Sex         0\n",
              "Age         0\n",
              "SibSp       0\n",
              "Parch       0\n",
              "Fare        0\n",
              "Embarked    0\n",
              "dtype: int64"
            ]
          },
          "metadata": {
            "tags": []
          },
          "execution_count": 41
        }
      ]
    },
    {
      "cell_type": "code",
      "metadata": {
        "id": "E8kj8r_ARKWK"
      },
      "source": [
        "# Decision Tree 모델을 사용하기 위한 적절한 패키지를 불러와 주세요\n",
        "# 별 다른 parameter 설정 없이 객체를 만들어 주고, 학습을 진행하세요\n",
        "from sklearn.tree import DecisionTreeClassifier\n",
        "dt_clf = DecisionTreeClassifier() \n",
        "dt_clf.fit(X_train, y_train) \n",
        "prediction=dt_clf.predict(X_test)"
      ],
      "execution_count": 68,
      "outputs": []
    },
    {
      "cell_type": "markdown",
      "metadata": {
        "id": "Idd6Ro2gRKWQ"
      },
      "source": [
        "### 3. Graphviz를 통한 시각화\n",
        "\n",
        "graphviz 설치를 하지 않으셨거나 오류가 난다면 이 부분은 건너뛰셔도 좋습니다"
      ]
    },
    {
      "cell_type": "code",
      "metadata": {
        "id": "boFILZbxRKWS"
      },
      "source": [
        "from sklearn.tree import export_graphviz\n",
        "\n",
        "export_graphviz(# [주석 기호를 지운 뒤 할당한 객체 이름을 적어주세요] ,\n",
        "                out_file=(\"titanic_hw.dot\"),\n",
        "                feature_names=X_train.columns,\n",
        "                class_names=['0','1'],\n",
        "                rounded=True,\n",
        "                filled=True)\n",
        "\n",
        "import graphviz\n",
        "import os\n",
        "\n",
        "os.environ[\"PATH\"] += os.pathsep + 'C:/graphviz-2.38/release/bin'\n",
        "\n",
        "with open(\"titanic_hw.dot\") as f:\n",
        "    dot_graph = f.read()\n",
        "    display(graphviz.Source(dot_graph))"
      ],
      "execution_count": null,
      "outputs": []
    },
    {
      "cell_type": "markdown",
      "metadata": {
        "id": "ws-2w5vJRKWX"
      },
      "source": [
        "### 4. 결과 확인"
      ]
    },
    {
      "cell_type": "code",
      "metadata": {
        "id": "-_PL7K93RKWZ",
        "colab": {
          "base_uri": "https://localhost:8080/"
        },
        "outputId": "713841c6-fa74-4973-e478-6a45db063bf1"
      },
      "source": [
        "# accuracy, f1 score, roc_auc score, confusion matrix, classification report를 모두 불러와주세요\n",
        "# 불러온 metric(결과 확인 지표)들을 통해 결과를 확인해주세요.\n",
        "from sklearn.metrics import accuracy_score, f1_score, roc_auc_score, confusion_matrix, classification_report\n",
        "\n",
        "matrix=confusion_matrix(y_test,prediction)\n",
        "print('Confusion matrix',matrix,'-'*30,sep='\\n')\n",
        "print('Accuracy:: {}'.format(accuracy_score(y_test,prediction)),\n",
        "      'F1_Score:: {}'.format(f1_score(y_test,prediction)),\n",
        "      'ROC_AUC_Score:: {}'.format(roc_auc_score(y_test,prediction)),\n",
        "      '-'*30,sep='\\n')\n",
        "print('Classification report',classification_report(y_test,prediction),sep='\\n')\n"
      ],
      "execution_count": 70,
      "outputs": [
        {
          "output_type": "stream",
          "text": [
            "Confusion matrix\n",
            "[[63 17]\n",
            " [27 36]]\n",
            "------------------------------\n",
            "Accuracy:: 0.6923076923076923\n",
            "F1_Score:: 0.6206896551724137\n",
            "ROC_AUC_Score:: 0.6794642857142857\n",
            "------------------------------\n",
            "Classification report\n",
            "              precision    recall  f1-score   support\n",
            "\n",
            "           0       0.70      0.79      0.74        80\n",
            "           1       0.68      0.57      0.62        63\n",
            "\n",
            "    accuracy                           0.69       143\n",
            "   macro avg       0.69      0.68      0.68       143\n",
            "weighted avg       0.69      0.69      0.69       143\n",
            "\n"
          ],
          "name": "stdout"
        }
      ]
    },
    {
      "cell_type": "markdown",
      "metadata": {
        "id": "_i9YXT1fRKWf"
      },
      "source": [
        "### 5. GridSearch를 통한 Tree pruning"
      ]
    },
    {
      "cell_type": "code",
      "metadata": {
        "id": "q_ziTelKRKWg",
        "colab": {
          "base_uri": "https://localhost:8080/"
        },
        "outputId": "4c30c612-1598-49fc-990d-08b9cf97ac97"
      },
      "source": [
        "# GridSearch를 위한 적절한 패키지를 불러와 주세요\n",
        "# max_leaf_nodes를 제외한 3가지 이상의 parameter에 대한 GridSearch를 진행해주세요. scoring은 원하시는 지표로 하셔도 됩니다.\n",
        "from sklearn.model_selection import GridSearchCV\n",
        "grid_dt = DecisionTreeClassifier()\n",
        "criterion=['gini','entropy']\n",
        "min_samples_split=[2,3,4,5,6]\n",
        "max_depth=[8,9,10,11]\n",
        "parameter_grid={'criterion':criterion,'min_samples_split':min_samples_split,'max_depth':max_depth}\n",
        "gs=GridSearchCV(estimator=grid_dt,param_grid=parameter_grid,scoring='f1')\n",
        "gs.fit(X_train,y_train)\n"
      ],
      "execution_count": 75,
      "outputs": [
        {
          "output_type": "execute_result",
          "data": {
            "text/plain": [
              "GridSearchCV(cv=None, error_score=nan,\n",
              "             estimator=DecisionTreeClassifier(ccp_alpha=0.0, class_weight=None,\n",
              "                                              criterion='gini', max_depth=None,\n",
              "                                              max_features=None,\n",
              "                                              max_leaf_nodes=None,\n",
              "                                              min_impurity_decrease=0.0,\n",
              "                                              min_impurity_split=None,\n",
              "                                              min_samples_leaf=1,\n",
              "                                              min_samples_split=2,\n",
              "                                              min_weight_fraction_leaf=0.0,\n",
              "                                              presort='deprecated',\n",
              "                                              random_state=None,\n",
              "                                              splitter='best'),\n",
              "             iid='deprecated', n_jobs=None,\n",
              "             param_grid={'criterion': ['gini', 'entropy'],\n",
              "                         'max_depth': [8, 9, 10, 11],\n",
              "                         'min_samples_split': [2, 3, 4, 5, 6]},\n",
              "             pre_dispatch='2*n_jobs', refit=True, return_train_score=False,\n",
              "             scoring='f1', verbose=0)"
            ]
          },
          "metadata": {
            "tags": []
          },
          "execution_count": 75
        }
      ]
    },
    {
      "cell_type": "code",
      "metadata": {
        "id": "gHV4QCsURKWk",
        "colab": {
          "base_uri": "https://localhost:8080/"
        },
        "outputId": "64940b11-2ca5-4fc2-e44d-47d3f1f1f5c9"
      },
      "source": [
        "# 최적 parameter 조합 / Validation score / Test score를 확인해 주세요.\n",
        "gs_test=GridSearchCV(estimator=grid_dt,param_grid=parameter_grid,scoring='f1')\n",
        "gs_test.fit(X_test,y_test)\n",
        "print('GridSearch 최적 parameter:{}'.format(gs.best_params_),\n",
        "      'GridSearch 최고 Validation Score: {:.3f}'.format(gs.best_score_),\n",
        "      'GridSearch 최고 Test Score: {:.3f}'.format(gs_test.best_score_),sep='\\n')"
      ],
      "execution_count": 76,
      "outputs": [
        {
          "output_type": "stream",
          "text": [
            "GridSearch 최적 parameter:{'criterion': 'gini', 'max_depth': 11, 'min_samples_split': 5}\n",
            "GridSearch 최고 Validation Score: 0.744\n",
            "GridSearch 최고 Test Score: 0.677\n"
          ],
          "name": "stdout"
        }
      ]
    },
    {
      "cell_type": "code",
      "metadata": {
        "id": "IclVorZpRKWp",
        "colab": {
          "base_uri": "https://localhost:8080/"
        },
        "outputId": "cce3fe17-bbc7-4a15-adf4-fb94ea7eb012"
      },
      "source": [
        "## GridSearch에 사용하신 parameter는 Decision Tree 모델 학습에서 어떤 역할을 하는지 간단하게 요약해주세요.\n",
        "## ex) criterion은 decision tree의 분류 기준인 불순도 지표를 정한다.\n",
        "## hint) Shift+tab\n",
        "print('criterion은 decision tree의 불순도를 계산하는 지표를 설정한다.',\n",
        "'min_samples_split은 노드를 분할하기 위한 최소한의 샘플 데이터 수이다.',\n",
        "'max_depth는 트리의 최대 깊이를 의미한다.',sep='\\n')\n"
      ],
      "execution_count": 77,
      "outputs": [
        {
          "output_type": "stream",
          "text": [
            "criterion은 decision tree의 불순도를 계산하는 지표를 설정한다.\n",
            "min_samples_split은 노드를 분할하기 위한 최소한의 샘플 데이터 수이다.\n",
            "max_depth는 트리의 최대 깊이를 의미한다.\n"
          ],
          "name": "stdout"
        }
      ]
    },
    {
      "cell_type": "markdown",
      "metadata": {
        "id": "lXRnnamhRKWu"
      },
      "source": [
        "> ### <b>고생하셨습니다~</b>"
      ]
    },
    {
      "cell_type": "markdown",
      "metadata": {
        "id": "YNy3AH_YRKWw"
      },
      "source": [
        "생각보다 GridSearch의 결과가 안 좋게 나와서 이상하다 생각하신 분들도 있을 수 있습니다. GridSearch 특성상 기존에 정해준 parameter 범위 내에서 찾는 것이기 때문에 애초에 적절한 parameter 후보를 찾지 못했다면 성능이 안 좋을 수도 있습니다. 앞으로 여러 프로젝트 진행해보시면서, parameter 찾는 것에 대한 감도 스스로 익혀보시면 좋을 것 같습니다!"
      ]
    },
    {
      "cell_type": "code",
      "metadata": {
        "id": "5N7QF34_RKWx"
      },
      "source": [
        ""
      ],
      "execution_count": null,
      "outputs": []
    }
  ]
}